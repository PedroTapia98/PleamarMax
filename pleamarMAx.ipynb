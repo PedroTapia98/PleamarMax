{
  "nbformat": 4,
  "nbformat_minor": 0,
  "metadata": {
    "colab": {
      "name": "pleamarMAx.ipynb",
      "provenance": [],
      "authorship_tag": "ABX9TyMjtcB2zmIujU3LcKMgPNBc",
      "include_colab_link": true
    },
    "kernelspec": {
      "name": "python3",
      "display_name": "Python 3"
    },
    "language_info": {
      "name": "python"
    }
  },
  "cells": [
    {
      "cell_type": "markdown",
      "metadata": {
        "id": "view-in-github",
        "colab_type": "text"
      },
      "source": [
        "<a href=\"https://colab.research.google.com/github/PedroTapia98/PleamarMax/blob/main/pleamarMAx.ipynb\" target=\"_parent\"><img src=\"https://colab.research.google.com/assets/colab-badge.svg\" alt=\"Open In Colab\"/></a>"
      ]
    },
    {
      "cell_type": "markdown",
      "source": [
        "# Cálculo de Pleamar máxima"
      ],
      "metadata": {
        "id": "wrUz8duuLyXf"
      }
    },
    {
      "cell_type": "code",
      "source": [
        "from math import acos, cos, sin, radians\n"
      ],
      "metadata": {
        "id": "vbpptbFC5hff"
      },
      "execution_count": 36,
      "outputs": []
    },
    {
      "cell_type": "markdown",
      "source": [
        "Para Obtener las distancias se requiere tener la latitud y longitud respectivamente en el apartado mencionado de los puntos de los dos mareografos mas cercanos en ambas direcciones de la costa"
      ],
      "metadata": {
        "id": "OCh2gPdR7DuV"
      }
    },
    {
      "cell_type": "code",
      "source": [
        "def distancia_puntos(mareografico1,mareografico2,puntointeres):\n",
        "  mareografico1 = (radians(mareografico1[0]), radians(mareografico1[1]))\n",
        "  mareografico2 = (radians(mareografico2[0]), radians(mareografico2[1]))\n",
        "  puntointeres = (radians(puntointeres[0]), radians(puntointeres[1]))\n",
        "\n",
        "  distancia1 = (acos(sin(mareografico1[0])*sin(puntointeres[0]) + cos(mareografico1[0])*cos(puntointeres[0])*cos(mareografico1[1] - puntointeres[1])))* 6371.01\n",
        "  distancia2 = (acos(sin(mareografico2[0])*sin(puntointeres[0]) + cos(mareografico2[0])*cos(puntointeres[0])*cos(mareografico2[1] - puntointeres[1])))* 6371.01\n",
        "\n",
        "  return (distancia1,distancia2)\n",
        "\n",
        "if __name__ == \"__main__\":\n",
        "  #insertar valores de latitud y longitud en decimales\n",
        "  mareografico1 = ( 19.200833, -96.130833)\n",
        "  mareografico2 = ( 18.125556, -94.402500)\n",
        "  puntointeres = ( 18.864320, -95.9050383)\n",
        "\n",
        "  resultado = distancia_puntos(mareografico1,mareografico2,puntointeres)\n",
        "\n",
        "  print(\"La primera distancia es\",resultado[0],\"la segunda distancia es\",resultado[1])\n",
        "\n"
      ],
      "metadata": {
        "id": "FssOV0tJ6bd2",
        "colab": {
          "base_uri": "https://localhost:8080/"
        },
        "outputId": "1b266056-e6f6-4c44-ab2c-691528ccb9d6"
      },
      "execution_count": 37,
      "outputs": [
        {
          "output_type": "stream",
          "name": "stdout",
          "text": [
            "La primera distancia es 44.311248140509306 la segunda distancia es 178.47288111077344\n"
          ]
        }
      ]
    },
    {
      "cell_type": "code",
      "source": [
        "distancia1 = resultado[0]\n",
        "distancia2 = resultado[1]"
      ],
      "metadata": {
        "id": "7f8Mc-tyySqi"
      },
      "execution_count": 38,
      "outputs": []
    },
    {
      "cell_type": "markdown",
      "source": [
        "Se debe tener los nivel de pleamar máxima indicada en las tablas numéricas de predicción de mareas de la Secretaría de Marina de el primer y segundo mareógrafo ( NP1  y NP2). Para calcular la pleamar máxima primero se necesita obtener el factor de interpolación(FI)\n"
      ],
      "metadata": {
        "id": "T0xESJUR6koj"
      }
    },
    {
      "cell_type": "code",
      "source": [
        "#Calcular FI\n",
        "NP1 = 0.46\n",
        "NP2 = 0.37\n",
        "FI = (NP2-NP1)/(distancia1 + distancia2)\n",
        "#calculamos la pleamar máxima\n",
        "NPM = distancia1*FI+NP1\n",
        "print(\"La pleamar máxima es de\",NPM,\"m\")\n"
      ],
      "metadata": {
        "colab": {
          "base_uri": "https://localhost:8080/"
        },
        "id": "rNhpfcme0KQT",
        "outputId": "d30626e1-a15c-4599-d4f6-2a5e78767b0a"
      },
      "execution_count": 39,
      "outputs": [
        {
          "output_type": "stream",
          "name": "stdout",
          "text": [
            "La pleamar máxima es de 0.44209920811662634 m\n"
          ]
        }
      ]
    }
  ]
}